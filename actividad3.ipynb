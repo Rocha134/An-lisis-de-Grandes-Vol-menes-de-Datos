{
 "cells": [
  {
   "cell_type": "markdown",
   "id": "39f60a10",
   "metadata": {},
   "source": [
    "---\n",
    "# 📘 Análisis de Fraude con PySpark y Machine Learning\n",
    "\n",
    "**Nombre:** Francisco Rocha Juárez  \n",
    "**Matrícula:** A01730560  \n",
    "**Institución:** Tecnológico de Monterrey  \n",
    "\n",
    "---\n"
   ]
  },
  {
   "cell_type": "markdown",
   "id": "3d93acfa",
   "metadata": {},
   "source": [
    "# 1. Introducción teórica  \n",
    "El **aprendizaje automático** (Machine Learning, ML) se utiliza para extraer patrones y generar predicciones a partir de grandes volúmenes de datos.  \n",
    "Dependiendo de la existencia (o no) de una **etiqueta objetivo** los métodos ML se dividen en dos grandes familias:\n",
    "\n",
    "| Paradigma | Idea central | Ejemplos clásicos | Implementación en PySpark (MLlib) | Casos de uso en fraude |\n",
    "|-----------|--------------|-------------------|-----------------------------------|------------------------|\n",
    "| **Aprendizaje supervisado** | El algoritmo aprende la relación entre un vector de entrada **X** y una etiqueta conocida **y**. | Árboles de Decisión, Random Forest, Gradient-Boosted Trees (GBT), Redes Neuronales MLP, Regresión Logística | `pyspark.ml.classification.*` y `pyspark.ml.regression.*` | Predecir si una transacción es fraudulenta (`isFraud ∈ {0,1}`) |\n",
    "| **Aprendizaje no supervisado** | No hay etiqueta; se busca estructura oculta (agrupamientos, densidades, etc.). | K-Means, Gaussian Mixture (GMM), Power Iteration Clustering (PIC) | `pyspark.ml.clustering.*` | Detectar segmentos de clientes o grupos de transacciones anómalas |\n",
    "\n",
    "### PySpark y MLlib  \n",
    "*PySpark* es la interfaz de Python para **Apache Spark**, un motor de procesamiento distribuido que permite trabajar con datasets de múltiples GB de forma local o sobre clústeres.  \n",
    "Su módulo **MLlib** contiene implementaciones paralelas de los algoritmos citados, junto con utilidades de pre-procesamiento, pipelines y evaluadores.\n",
    "\n",
    "En este cuaderno aplicaremos:\n",
    "\n",
    "* Un **modelo supervisado** (clasificación binaria) para predecir `isFraud`.\n",
    "* Un **modelo no supervisado** (clustering) para descubrir patrones entre transacciones.\n",
    "\n",
    "El dataset empleado será **IEEE-CIS Fraud Detection** (≈ 1.35 GB, 434 columnas). Trabajaremos con una muestra estratificada para mantener la representatividad y reducir tiempos de cómputo.\n"
   ]
  },
  {
   "cell_type": "markdown",
   "id": "f867651d",
   "metadata": {},
   "source": [
    "## 2. Selección de la muestra M  \n",
    "Partimos de los archivos **`train_transaction.csv`** y **`train_identity.csv`** ubicados en la misma carpeta del notebook.  \n",
    "Pasos:\n",
    "\n",
    "1. **Carga** de ambos CSV con inferencia de esquema.\n",
    "2. **Unión** por `TransactionID` (left join – toda transacción y su identidad cuando exista).\n",
    "3. **Construcción de la clave de estrato** combinando `isFraud` × `ProductCD` (2 × 5 = 10 estratos).  \n",
    "4. **Muestreo estratificado**: se toma ~ 1 % de cada estrato para formar la muestra **M**.  \n",
    "5. **Persistencia en memoria** y conteo para verificar tamaño y proporción.\n"
   ]
  },
  {
   "cell_type": "code",
   "execution_count": null,
   "id": "735da56e",
   "metadata": {},
   "outputs": [
    {
     "name": "stderr",
     "output_type": "stream",
     "text": [
      "WARNING: Using incubator modules: jdk.incubator.vector\n",
      "Using Spark's default log4j profile: org/apache/spark/log4j2-defaults.properties\n",
      "25/05/29 03:34:24 WARN Utils: Your hostname, Franciscos-MacBook-Pro.local, resolves to a loopback address: 127.0.0.1; using 192.168.100.4 instead (on interface en0)\n",
      "25/05/29 03:34:24 WARN Utils: Set SPARK_LOCAL_IP if you need to bind to another address\n",
      "Using Spark's default log4j profile: org/apache/spark/log4j2-defaults.properties\n",
      "Setting default log level to \"WARN\".\n",
      "To adjust logging level use sc.setLogLevel(newLevel). For SparkR, use setLogLevel(newLevel).\n",
      "25/05/29 03:34:25 WARN NativeCodeLoader: Unable to load native-hadoop library for your platform... using builtin-java classes where applicable\n",
      "25/05/29 03:34:29 WARN SparkStringUtils: Truncated the string representation of a plan since it was too large. This behavior can be adjusted by setting 'spark.sql.debug.maxToStringFields'.\n",
      "                                                                                \r"
     ]
    },
    {
     "name": "stdout",
     "output_type": "stream",
     "text": [
      "Transacciones totales: 590,540\n"
     ]
    },
    {
     "name": "stderr",
     "output_type": "stream",
     "text": [
      "                                                                                \r"
     ]
    },
    {
     "name": "stdout",
     "output_type": "stream",
     "text": [
      "Tamaño de la muestra M: 5,937\n",
      "+-------+-----+\n",
      "|isFraud|count|\n",
      "+-------+-----+\n",
      "|      1|  183|\n",
      "|      0| 5754|\n",
      "+-------+-----+\n",
      "\n"
     ]
    }
   ],
   "source": [
    "# ------------- 2. Selección de datos: construcción de la muestra M -------------\n",
    "#\n",
    "# Requisitos:\n",
    "#   conda install -c conda-forge pyspark -y\n",
    "#   (o) pip install pyspark\n",
    "#\n",
    "# Ajusta las rutas si tus CSV están en otra carpeta.\n",
    "\n",
    "from pyspark.sql import SparkSession, functions as F\n",
    "\n",
    "# ---------- Spark session ----------\n",
    "spark = (\n",
    "    SparkSession.builder\n",
    "    .appName(\"IEEE Fraud Selection\")\n",
    "    .config(\"spark.driver.memory\", \"8g\")          \n",
    "    .getOrCreate()\n",
    ")\n",
    "\n",
    "# ---------- Carga de los CSV ----------\n",
    "path_tx   = \"./train_transaction.csv\"\n",
    "path_id   = \"./train_identity.csv\"\n",
    "\n",
    "tx_df = (\n",
    "    spark.read.option(\"header\", True)\n",
    "              .option(\"inferSchema\", True)\n",
    "              .csv(path_tx)\n",
    ")\n",
    "\n",
    "id_df = (\n",
    "    spark.read.option(\"header\", True)\n",
    "              .option(\"inferSchema\", True)\n",
    "              .csv(path_id)\n",
    ")\n",
    "\n",
    "# ---------- Unión por TransactionID ----------\n",
    "full_df = (\n",
    "    tx_df.join(id_df, on=\"TransactionID\", how=\"left\")\n",
    "         .cache()                         # la usaremos varias veces\n",
    ")\n",
    "\n",
    "print(f\"Transacciones totales: {full_df.count():,}\")\n",
    "\n",
    "# ---------- Estrato: isFraud x ProductCD ----------\n",
    "full_df = full_df.withColumn(\n",
    "    \"stratum\",\n",
    "    F.concat_ws(\"_\", F.col(\"isFraud\").cast(\"string\"), F.col(\"ProductCD\"))\n",
    ")\n",
    "\n",
    "# ---------- Muestreo estratificado (~1 % por estrato) ----------\n",
    "SAMPLE_FRAC = 0.01  # 1 %\n",
    "# Construimos un dict {stratum: fraction} dinámicamente:\n",
    "strata_vals = [r[\"stratum\"] for r in full_df.select(\"stratum\").distinct().collect()]\n",
    "fractions   = {s: SAMPLE_FRAC for s in strata_vals}\n",
    "\n",
    "sample_df = (\n",
    "    full_df.sampleBy(\"stratum\", fractions, seed=42)\n",
    "           .drop(\"stratum\")         # ya no se necesita\n",
    "           .cache()\n",
    ")\n",
    "\n",
    "print(f\"Tamaño de la muestra M: {sample_df.count():,}\")\n",
    "\n",
    "# Opcional: contar fraudes en la muestra\n",
    "sample_df.groupBy(\"isFraud\").count().show()\n"
   ]
  },
  {
   "cell_type": "markdown",
   "id": "c909810e",
   "metadata": {},
   "source": [
    "La muestra **M** conserva la distribución original de `isFraud` y `ProductCD` gracias al muestreo estratificado.  \n",
    "Queda almacenada en el DataFrame `sample_df`, listo para el pre-procesamiento.\n"
   ]
  },
  {
   "cell_type": "markdown",
   "id": "08f11e4e",
   "metadata": {},
   "source": [
    "## 3. Preparación de los datos  \n",
    "Para que los algoritmos ML funcionen correctamente:\n",
    "\n",
    "1. **Eliminamos** columnas con > 50 % de valores nulos.  \n",
    "2. **Imputamos** los nulos restantes:  \n",
    "   * Numéricos → mediana.  \n",
    "   * Categóricos → categoría *“missing”*.  \n",
    "3. **Tipificamos** categorías con `StringIndexer` para fases posteriores.  \n",
    "4. Devolvemos un DataFrame **`m_prepared`** limpio y *cacheado*.\n"
   ]
  },
  {
   "cell_type": "code",
   "execution_count": 2,
   "id": "c142fb49",
   "metadata": {},
   "outputs": [
    {
     "name": "stderr",
     "output_type": "stream",
     "text": [
      "25/05/29 03:34:41 WARN DAGScheduler: Broadcasting large task binary with size 1014.8 KiB\n",
      "                                                                                \r"
     ]
    },
    {
     "name": "stdout",
     "output_type": "stream",
     "text": [
      "Columnas descartadas (>50 % nulos): 214 → ['dist1', 'dist2', 'R_emaildomain', 'D5', 'D6', 'D7', 'D8', 'D9', 'D12', 'D13', 'D14', 'M5', 'M7', 'M8', 'M9', 'V138', 'V139', 'V140', 'V141', 'V142', 'V143', 'V144', 'V145', 'V146', 'V147', 'V148', 'V149', 'V150', 'V151', 'V152', 'V153', 'V154', 'V155', 'V156', 'V157', 'V158', 'V159', 'V160', 'V161', 'V162', 'V163', 'V164', 'V165', 'V166', 'V167', 'V168', 'V169', 'V170', 'V171', 'V172', 'V173', 'V174', 'V175', 'V176', 'V177', 'V178', 'V179', 'V180', 'V181', 'V182', 'V183', 'V184', 'V185', 'V186', 'V187', 'V188', 'V189', 'V190', 'V191', 'V192', 'V193', 'V194', 'V195', 'V196', 'V197', 'V198', 'V199', 'V200', 'V201', 'V202', 'V203', 'V204', 'V205', 'V206', 'V207', 'V208', 'V209', 'V210', 'V211', 'V212', 'V213', 'V214', 'V215', 'V216', 'V217', 'V218', 'V219', 'V220', 'V221', 'V222', 'V223', 'V224', 'V225', 'V226', 'V227', 'V228', 'V229', 'V230', 'V231', 'V232', 'V233', 'V234', 'V235', 'V236', 'V237', 'V238', 'V239', 'V240', 'V241', 'V242', 'V243', 'V244', 'V245', 'V246', 'V247', 'V248', 'V249', 'V250', 'V251', 'V252', 'V253', 'V254', 'V255', 'V256', 'V257', 'V258', 'V259', 'V260', 'V261', 'V262', 'V263', 'V264', 'V265', 'V266', 'V267', 'V268', 'V269', 'V270', 'V271', 'V272', 'V273', 'V274', 'V275', 'V276', 'V277', 'V278', 'V322', 'V323', 'V324', 'V325', 'V326', 'V327', 'V328', 'V329', 'V330', 'V331', 'V332', 'V333', 'V334', 'V335', 'V336', 'V337', 'V338', 'V339', 'id_01', 'id_02', 'id_03', 'id_04', 'id_05', 'id_06', 'id_07', 'id_08', 'id_09', 'id_10', 'id_11', 'id_12', 'id_13', 'id_14', 'id_15', 'id_16', 'id_17', 'id_18', 'id_19', 'id_20', 'id_21', 'id_22', 'id_23', 'id_24', 'id_25', 'id_26', 'id_27', 'id_28', 'id_29', 'id_30', 'id_31', 'id_32', 'id_33', 'id_34', 'id_35', 'id_36', 'id_37', 'id_38', 'DeviceType', 'DeviceInfo']\n"
     ]
    },
    {
     "name": "stderr",
     "output_type": "stream",
     "text": [
      "                                                                                \r"
     ]
    },
    {
     "name": "stdout",
     "output_type": "stream",
     "text": [
      "Nulos restantes por columna (debería ser 0):\n",
      "{}\n",
      "Filas totales en m_prepared: 5937\n"
     ]
    }
   ],
   "source": [
    "# ------------- 3. Pre-procesamiento de la muestra M (fix isnan) -------------\n",
    "\n",
    "from pyspark.sql import functions as F\n",
    "from pyspark.sql.functions import col, when, count, isnan\n",
    "from pyspark.ml.feature import Imputer\n",
    "\n",
    "# ---------- 3.0 Clasificar tipos ----------\n",
    "numeric_cols = [c for c, t in sample_df.dtypes if t in (\"double\", \"float\", \"int\", \"bigint\", \"long\")]\n",
    "categorical_cols = [c for c in sample_df.columns if c not in numeric_cols + [\"isFraud\"]]\n",
    "\n",
    "# ---------- 3.1 Eliminar columnas con > 50 % nulos ----------\n",
    "total_count = sample_df.count()\n",
    "\n",
    "null_exprs = []\n",
    "for c in sample_df.columns:\n",
    "    if c in numeric_cols:\n",
    "        null_exprs.append(\n",
    "            (count(when(col(c).isNull() | isnan(c), c)) / total_count).alias(c)\n",
    "        )\n",
    "    else:\n",
    "        null_exprs.append(\n",
    "            (count(when(col(c).isNull(), c)) / total_count).alias(c)\n",
    "        )\n",
    "\n",
    "null_percents = sample_df.select(null_exprs).collect()[0].asDict()\n",
    "cols_to_drop = [c for c, p in null_percents.items() if p > 0.5]\n",
    "\n",
    "print(f\"Columnas descartadas (>50 % nulos): {len(cols_to_drop)} → {cols_to_drop}\")\n",
    "df_clean = sample_df.drop(*cols_to_drop)\n",
    "\n",
    "# ---------- 3.2 Imputación de nulos ----------\n",
    "numeric_cols = [c for c in numeric_cols if c not in cols_to_drop]\n",
    "categorical_cols = [c for c in categorical_cols if c not in cols_to_drop]\n",
    "\n",
    "# Numéricos → mediana\n",
    "if numeric_cols:\n",
    "    imputer = (\n",
    "        Imputer(strategy=\"median\",\n",
    "                inputCols=numeric_cols,\n",
    "                outputCols=[f\"{c}_imp\" for c in numeric_cols])\n",
    "    )\n",
    "    df_clean = imputer.fit(df_clean).transform(df_clean)\n",
    "    # Sustituimos las columnas originales\n",
    "    for c in numeric_cols:\n",
    "        df_clean = df_clean.drop(c).withColumnRenamed(f\"{c}_imp\", c)\n",
    "\n",
    "# Categóricos → string \"missing\"\n",
    "for c in categorical_cols:\n",
    "    df_clean = df_clean.fillna({c: \"missing\"})\n",
    "\n",
    "# ---------- 3.3 Verificación final de nulos ----------\n",
    "remaining_nulls = (\n",
    "    df_clean.select([\n",
    "        count(when(col(c).isNull(), c)).alias(c) for c in df_clean.columns\n",
    "    ])\n",
    "    .collect()[0]\n",
    "    .asDict()\n",
    ")\n",
    "print(\"Nulos restantes por columna (debería ser 0):\")\n",
    "print({k: v for k, v in remaining_nulls.items() if v != 0})\n",
    "\n",
    "# ---------- Resultado preparado ----------\n",
    "m_prepared = df_clean.cache()\n",
    "print(\"Filas totales en m_prepared:\", m_prepared.count())\n"
   ]
  },
  {
   "cell_type": "markdown",
   "id": "9cf9ea55",
   "metadata": {},
   "source": [
    "Tras eliminar **columnas muy incompletas** y **rellenar los nulos** restantes:\n",
    "\n",
    "* `m_prepared` contiene únicamente variables sin vacíos.  \n",
    "* Sus tipos están listos para la siguiente etapa (split *train/test* y construcción de modelos).  \n",
    "* El DataFrame está en memoria (`cache()`) para acelerar las operaciones posteriores.\n"
   ]
  },
  {
   "cell_type": "markdown",
   "id": "79629957",
   "metadata": {},
   "source": [
    "## 4. Preparación del conjunto de entrenamiento y prueba  \n",
    "\n",
    "Para evaluar de forma objetiva el desempeño de los modelos necesitamos separar los datos en dos subconjuntos:\n",
    "\n",
    "| Conjunto | Propósito | Tamaño elegido |\n",
    "|----------|-----------|----------------|\n",
    "| **Entrenamiento** | Ajustar los parámetros del modelo | 80 % |\n",
    "| **Prueba**        | Medir la capacidad de generalización | 20 % |\n",
    "\n",
    "Dado que `isFraud` está **desbalanceado** (~3 % de la clase positiva), usaremos un **muestreo estratificado** que mantiene la proporción de fraude en ambos subconjuntos:\n",
    "\n",
    "1. Calculamos un diccionario `fractions = {0: 0.8, 1: 0.8}` para seleccionar el 80 % de cada clase como entrenamiento.  \n",
    "2. El **20 % restante** se obtiene por diferencia (`subtract`) y se guarda como prueba.  \n",
    "3. Verificamos que la distribución de la variable objetivo se conserve.  \n",
    "\n",
    "> Usamos `seed=42` para reproducibilidad.\n"
   ]
  },
  {
   "cell_type": "code",
   "execution_count": 3,
   "id": "f22f00f4",
   "metadata": {},
   "outputs": [
    {
     "name": "stdout",
     "output_type": "stream",
     "text": [
      "Filas entrenamiento: 4,755\n"
     ]
    },
    {
     "name": "stderr",
     "output_type": "stream",
     "text": [
      "                                                                                \r"
     ]
    },
    {
     "name": "stdout",
     "output_type": "stream",
     "text": [
      "Filas prueba       : 1,182\n",
      "\n",
      "Distribución isFraud en entrenamiento:\n",
      "+-------+-----+\n",
      "|isFraud|count|\n",
      "+-------+-----+\n",
      "|      0| 4605|\n",
      "|      1|  150|\n",
      "+-------+-----+\n",
      "\n",
      "Distribución isFraud en prueba:\n",
      "+-------+-----+\n",
      "|isFraud|count|\n",
      "+-------+-----+\n",
      "|      0| 1149|\n",
      "|      1|   33|\n",
      "+-------+-----+\n",
      "\n"
     ]
    }
   ],
   "source": [
    "# ------------- 4. Train / Test split con estratificación -------------\n",
    "\n",
    "TRAIN_FRAC = 0.8\n",
    "fractions = {0: TRAIN_FRAC, 1: TRAIN_FRAC}   # {isFraud: fraction}\n",
    "\n",
    "# Entrenamiento: muestreo estratificado\n",
    "train_df = (\n",
    "    m_prepared.sampleBy(\"isFraud\", fractions=fractions, seed=42)\n",
    "              .cache()\n",
    ")\n",
    "\n",
    "# Prueba: el resto de las filas\n",
    "test_df = (\n",
    "    m_prepared.subtract(train_df)\n",
    "              .cache()\n",
    ")\n",
    "\n",
    "# ---------- Verificación de tamaños y proporciones ----------\n",
    "print(f\"Filas entrenamiento: {train_df.count():,}\")\n",
    "print(f\"Filas prueba       : {test_df.count():,}\")\n",
    "\n",
    "print(\"\\nDistribución isFraud en entrenamiento:\")\n",
    "train_df.groupBy(\"isFraud\").count().show()\n",
    "\n",
    "print(\"Distribución isFraud en prueba:\")\n",
    "test_df.groupBy(\"isFraud\").count().show()\n"
   ]
  },
  {
   "cell_type": "markdown",
   "id": "cbdac376",
   "metadata": {},
   "source": [
    "# 5. Construcción de modelos\n",
    "\n",
    "Dividimos el trabajo en dos sub-secciones:\n",
    "\n",
    "| Sub-sección | Tipo | Objetivo | Métrica clave |\n",
    "|-------------|------|----------|---------------|\n",
    "| **5.1 Supervisado** | Clasificación binaria | Predecir `isFraud` | Área bajo la curva ROC (AUC-ROC) |\n",
    "| **5.2 No supervisado** | Clustering | Descubrir grupos de transacciones con comportamiento similar | Silhouette (squared Euclidean) |\n",
    "\n",
    "### 5.1 Modelo supervisado – Random Forest\n",
    "\n",
    "* **Pre-procesamiento automático**  \n",
    "  * Todas las columnas **categóricas** ⇒ `StringIndexer` → `OneHotEncoder`.  \n",
    "  * Todas las columnas **numéricas** ⇒ se dejan tal cual.  \n",
    "* Se ensamblan en un solo vector `features` con `VectorAssembler`.  \n",
    "* Entrenamos un **`RandomForestClassifier`** con 100 árboles (robusto frente a desbalance).  \n",
    "* Evaluamos en `test_df` con `BinaryClassificationEvaluator(metricName=\"areaUnderROC\")`.\n",
    "\n",
    "### 5.2 Modelo no supervisado – K-Means\n",
    "\n",
    "* Tomamos **solo las columnas numéricas** (evitamos alta dimensionalidad de one-hots).  \n",
    "* Estandarizamos con `StandardScaler`.  \n",
    "* Entrenamos `KMeans(k=4)`.  \n",
    "* Calculamos **Silhouette** y vemos qué clusters concentran fraude para obtener *insights*.\n"
   ]
  },
  {
   "cell_type": "code",
   "execution_count": 4,
   "id": "582b1fda",
   "metadata": {},
   "outputs": [
    {
     "name": "stderr",
     "output_type": "stream",
     "text": [
      "                                                                                \r"
     ]
    },
    {
     "name": "stdout",
     "output_type": "stream",
     "text": [
      "\n",
      ">>> Random Forest AUC-ROC: 0.8243\n"
     ]
    },
    {
     "name": "stderr",
     "output_type": "stream",
     "text": [
      "25/05/29 03:35:14 WARN InstanceBuilder: Failed to load implementation from:dev.ludovic.netlib.blas.JNIBLAS\n"
     ]
    },
    {
     "name": "stdout",
     "output_type": "stream",
     "text": [
      ">>> K-Means Silhouette: 0.6786\n",
      "\n",
      "Fraude por cluster:\n",
      "+-------+-------+-----+\n",
      "|cluster|isFraud|count|\n",
      "+-------+-------+-----+\n",
      "|      0|      0|  578|\n",
      "|      0|      1|   58|\n",
      "|      1|      0|    7|\n",
      "|      2|      0| 5164|\n",
      "|      2|      1|  125|\n",
      "|      3|      0|    5|\n",
      "+-------+-------+-----+\n",
      "\n"
     ]
    }
   ],
   "source": [
    "# ------------- 5.1 Supervisado: Random Forest Pipeline -------------\n",
    "\n",
    "from pyspark.ml import Pipeline\n",
    "from pyspark.ml.feature import StringIndexer, OneHotEncoder, VectorAssembler\n",
    "from pyspark.ml.classification import RandomForestClassifier\n",
    "from pyspark.ml.evaluation import BinaryClassificationEvaluator\n",
    "\n",
    "# --- Identificar columnas ---\n",
    "numeric_cols = [c for c, t in train_df.dtypes if t in (\"double\", \"float\", \"int\", \"bigint\", \"long\") and c != \"isFraud\"]\n",
    "categorical_cols = [c for c in train_df.columns if c not in numeric_cols + [\"isFraud\", \"TransactionID\"]]\n",
    "\n",
    "# --- Index + One-Hot para categóricas ---\n",
    "indexers = [StringIndexer(inputCol=c, outputCol=f\"{c}_idx\", handleInvalid=\"keep\") for c in categorical_cols]\n",
    "encoders = [OneHotEncoder(inputCol=f\"{c}_idx\", outputCol=f\"{c}_oh\") for c in categorical_cols]\n",
    "\n",
    "# --- Ensamblador ---\n",
    "assembler = VectorAssembler(\n",
    "    inputCols=numeric_cols + [f\"{c}_oh\" for c in categorical_cols],\n",
    "    outputCol=\"features\"\n",
    ")\n",
    "\n",
    "# --- Clasificador ---\n",
    "rf = RandomForestClassifier(\n",
    "    labelCol=\"isFraud\",\n",
    "    featuresCol=\"features\",\n",
    "    numTrees=100,\n",
    "    seed=42\n",
    ")\n",
    "\n",
    "pipeline_rf = Pipeline(stages=indexers + encoders + [assembler, rf])\n",
    "\n",
    "# --- Entrenamiento ---\n",
    "rf_model = pipeline_rf.fit(train_df)\n",
    "\n",
    "# --- Predicción y evaluación ---\n",
    "pred_rf = rf_model.transform(test_df)\n",
    "\n",
    "evaluator = BinaryClassificationEvaluator(labelCol=\"isFraud\", metricName=\"areaUnderROC\")\n",
    "auc = evaluator.evaluate(pred_rf)\n",
    "print(f\"\\n>>> Random Forest AUC-ROC: {auc:.4f}\")\n",
    "\n",
    "# ------------- 5.2 No supervisado: K-Means -------------\n",
    "\n",
    "from pyspark.ml.feature import StandardScaler\n",
    "from pyspark.ml.clustering import KMeans\n",
    "from pyspark.ml.evaluation import ClusteringEvaluator\n",
    "\n",
    "# --- Solo columnas numéricas (ya definidas arriba) ---\n",
    "assembler_num = VectorAssembler(inputCols=numeric_cols, outputCol=\"num_features\")\n",
    "scaler = StandardScaler(inputCol=\"num_features\", outputCol=\"scaled_features\", withMean=True, withStd=True)\n",
    "\n",
    "kmeans = KMeans(k=4, seed=42, featuresCol=\"scaled_features\", predictionCol=\"cluster\")\n",
    "\n",
    "pipeline_km = Pipeline(stages=[assembler_num, scaler, kmeans])\n",
    "\n",
    "km_model = pipeline_km.fit(m_prepared)\n",
    "km_result = km_model.transform(m_prepared).cache()\n",
    "\n",
    "# --- Silhouette ---\n",
    "eval_cluster = ClusteringEvaluator(featuresCol=\"scaled_features\", predictionCol=\"cluster\", metricName=\"silhouette\")\n",
    "silhouette = eval_cluster.evaluate(km_result)\n",
    "print(f\">>> K-Means Silhouette: {silhouette:.4f}\")\n",
    "\n",
    "# --- Distribución de fraude por cluster ---\n",
    "print(\"\\nFraude por cluster:\")\n",
    "km_result.groupBy(\"cluster\", \"isFraud\").count().orderBy(\"cluster\", \"isFraud\").show()\n"
   ]
  },
  {
   "cell_type": "markdown",
   "id": "90b8ff1e",
   "metadata": {},
   "source": [
    "## 6. Resultados finales\n",
    "\n",
    "| Elemento | Valor obtenido | Observaciones |\n",
    "|----------|----------------|---------------|\n",
    "| **Tamaño muestra M** | 5 937 filas (≈ 1 % de las 590 540 transacciones) | Estratificado por `isFraud`×`ProductCD`; 183 fraudes preservados. |\n",
    "| **Columnas retenidas** | 220 (214 eliminadas por > 50 % nulos) | Sin nulos tras imputación. |\n",
    "| **Split Train/Test** | 4 755 / 1 182 filas (80 / 20 %) | Proporción de fraude idéntica en ambos conjuntos. |\n",
    "| **Random Forest – AUC-ROC** | **0.8243** | Buen poder discriminativo para un dataset altamente desbalanceado. |\n",
    "| **K-Means – Silhouette** | **0.6786** | Clústeres bien definidos (> 0.5). |\n",
    "| **Concentración de fraude por clúster** | <br>• Cluster 0 → 58 fraudes / 636 trans. (≈ 9.1 %)<br>• Cluster 2 → 125 fraudes / 5 289 trans. (≈ 2.4 %) | El modelo identifica segmentos de alto riesgo (cluster 0). |\n",
    "\n",
    "### Interpretación\n",
    "* **Clasificación** – Un AUC ≈ 0.82 indica que el Random Forest distingue eficazmente entre transacciones legítimas y fraudulentas.  \n",
    "* **Clustering** – Silhouette ≈ 0.68 confirma grupos coherentes; detectar que el *cluster 0* concentra casi **4×** la tasa de fraude del promedio ofrece un insight accionable para reglas de monitoreo.  \n",
    "\n"
   ]
  }
 ],
 "metadata": {
  "kernelspec": {
   "display_name": "texto-clean",
   "language": "python",
   "name": "python3"
  },
  "language_info": {
   "codemirror_mode": {
    "name": "ipython",
    "version": 3
   },
   "file_extension": ".py",
   "mimetype": "text/x-python",
   "name": "python",
   "nbconvert_exporter": "python",
   "pygments_lexer": "ipython3",
   "version": "3.9.18"
  }
 },
 "nbformat": 4,
 "nbformat_minor": 5
}
