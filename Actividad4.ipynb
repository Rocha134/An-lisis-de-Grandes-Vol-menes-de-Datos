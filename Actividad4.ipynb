{
 "cells": [
  {
   "cell_type": "markdown",
   "id": "c126c384",
   "metadata": {},
   "source": [
    "### Francisco Rocha Juárez. A01730560"
   ]
  },
  {
   "cell_type": "markdown",
   "id": "45e7452d",
   "metadata": {},
   "source": [
    "### 1. Construcción de la muestra **M**\n",
    "\n",
    "**Objetivo:** generar una muestra representativa **M** de la población **P** (datos IEEE-CIS Fraud Detection), preservando la distribución natural de las variables de caracterización:\n",
    "\n",
    "* **`isFraud`**  (0 = legítimo, 1 = fraude)  \n",
    "* **`ProductCD`**  (W, C, R, H, S)\n",
    "\n",
    "Creamos 10 estratos \\(Mi = \\{\\,\\text{isFraud}=x,\\; \\text{ProductCD}=y\\,\\}\\).  \n",
    "Para evitar sesgos:\n",
    "\n",
    "1. **Muestreo proporcional (5 %)** dentro de cada estrato → mantiene la distribución global.  \n",
    "2. **Umbral mínimo** de **150 filas** por estrato para que los grupos pequeños queden bien representados.  \n",
    "3. Si un estrato tiene < 150 registros, se selecciona **todo** el estrato (no altera la proporción global de forma significativa dada la población de 590 k).\n",
    "\n",
    "El resultado es un DataFrame **`M`** y 10 particiones **`Mi`** cacheados para uso posterior.\n"
   ]
  },
  {
   "cell_type": "code",
   "execution_count": 1,
   "id": "2baeb918",
   "metadata": {},
   "outputs": [
    {
     "name": "stderr",
     "output_type": "stream",
     "text": [
      "WARNING: Using incubator modules: jdk.incubator.vector\n",
      "Using Spark's default log4j profile: org/apache/spark/log4j2-defaults.properties\n",
      "25/06/11 23:11:18 WARN Utils: Your hostname, Franciscos-MacBook-Pro.local, resolves to a loopback address: 127.0.0.1; using 192.168.100.64 instead (on interface en0)\n",
      "25/06/11 23:11:18 WARN Utils: Set SPARK_LOCAL_IP if you need to bind to another address\n",
      "Using Spark's default log4j profile: org/apache/spark/log4j2-defaults.properties\n",
      "Setting default log level to \"WARN\".\n",
      "To adjust logging level use sc.setLogLevel(newLevel). For SparkR, use setLogLevel(newLevel).\n",
      "25/06/11 23:11:18 WARN NativeCodeLoader: Unable to load native-hadoop library for your platform... using builtin-java classes where applicable\n"
     ]
    },
    {
     "name": "stdout",
     "output_type": "stream",
     "text": [
      "⚡ Muestra M encontrada en disco → leyendo…\n"
     ]
    },
    {
     "name": "stderr",
     "output_type": "stream",
     "text": [
      "25/06/11 23:11:25 WARN SparkStringUtils: Truncated the string representation of a plan since it was too large. This behavior can be adjusted by setting 'spark.sql.debug.maxToStringFields'.\n"
     ]
    },
    {
     "name": "stdout",
     "output_type": "stream",
     "text": [
      "Distribución isFraud en M:\n"
     ]
    },
    {
     "name": "stderr",
     "output_type": "stream",
     "text": [
      "[Stage 1:=============================>                            (7 + 7) / 14]\r"
     ]
    },
    {
     "name": "stdout",
     "output_type": "stream",
     "text": [
      "+-------+-----+\n",
      "|isFraud|count|\n",
      "+-------+-----+\n",
      "|      1| 1331|\n",
      "|      0|28635|\n",
      "+-------+-----+\n",
      "\n"
     ]
    },
    {
     "name": "stderr",
     "output_type": "stream",
     "text": [
      "                                                                                \r"
     ]
    }
   ],
   "source": [
    "# ==============================================================\n",
    "#  Sección 1 · Construcción (o recarga) de la muestra representativa M\n",
    "# ==============================================================\n",
    "\n",
    "from pyspark.sql import SparkSession, functions as F\n",
    "from pathlib import Path\n",
    "import json, os\n",
    "\n",
    "# ── 1) Spark session ───────────────────────────────────────────\n",
    "spark = (\n",
    "    SparkSession.builder\n",
    "    .appName(\"Actividad4_Métricas\")\n",
    "    .config(\"spark.driver.memory\", \"8g\")\n",
    "    .getOrCreate()\n",
    ")\n",
    "\n",
    "# ── 2) Rutas base ──────────────────────────────────────────────\n",
    "DATA_DIR   = Path(\"/Users/rocha/Desktop/An-lisis-de-Grandes-Vol-menes-de-Datos\")\n",
    "CACHE_DIR  = DATA_DIR / \"cache_a4\"          # aquí se guardará todo\n",
    "CACHE_DIR.mkdir(exist_ok=True)\n",
    "\n",
    "CSV_TX  = DATA_DIR  / \"train_transaction.csv\"\n",
    "CSV_ID  = DATA_DIR  / \"train_identity.csv\"\n",
    "PARQUET_M = CACHE_DIR / \"M_df.parquet\"      # muestra estratificada\n",
    "\n",
    "# ── 3) Cargar muestra M si existe ──────────────────────────────\n",
    "if PARQUET_M.exists():\n",
    "    print(\"⚡ Muestra M encontrada en disco → leyendo…\")\n",
    "    M_df = spark.read.parquet(str(PARQUET_M)).cache()\n",
    "\n",
    "else:\n",
    "    print(\"⏳ Muestra M no existe → construyendo…\")\n",
    "    # 3.1  Carga CSV\n",
    "    tx_df = spark.read.csv(str(CSV_TX), header=True, inferSchema=True)\n",
    "    id_df = spark.read.csv(str(CSV_ID), header=True, inferSchema=True)\n",
    "    full_df = tx_df.join(id_df, on=\"TransactionID\", how=\"left\")\n",
    "\n",
    "    # 3.2  Estrato isFraud × ProductCD\n",
    "    full_df = full_df.withColumn(\n",
    "        \"stratum\", F.concat_ws(\"_\", F.col(\"isFraud\").cast(\"string\"), F.col(\"ProductCD\"))\n",
    "    )\n",
    "\n",
    "    # 3.3  Cálculo de fracciones (5 % o ≥150 filas)\n",
    "    SAMPLE_BASE, MIN_STRAT = 0.05, 150\n",
    "    strata_cnt = full_df.groupBy(\"stratum\").count().collect()\n",
    "    fractions = {\n",
    "        r[\"stratum\"]: min(1.0, max(SAMPLE_BASE, MIN_STRAT / r[\"count\"])) for r in strata_cnt\n",
    "    }\n",
    "\n",
    "    # 3.4  Muestreo estratificado\n",
    "    M_df = (\n",
    "        full_df.sampleBy(\"stratum\", fractions, seed=42)\n",
    "               .drop(\"stratum\")\n",
    "               .cache()\n",
    "    )\n",
    "    print(f\"✅ Muestra M generada: {M_df.count():,} filas · guardando Parquet…\")\n",
    "    M_df.write.mode(\"overwrite\").parquet(str(PARQUET_M))\n",
    "\n",
    "print(\"Distribución isFraud en M:\")\n",
    "M_df.groupBy(\"isFraud\").count().show()"
   ]
  },
  {
   "cell_type": "markdown",
   "id": "af8bb9fb",
   "metadata": {},
   "source": [
    "## 2. Construcción Train – Test  \n",
    "\n",
    "Dividimos cada partición \\(M_i\\) (definida por `isFraud` & `ProductCD`) en:\n",
    "\n",
    "| Conjunto | Propósito | Porcentaje |\n",
    "|----------|-----------|------------|\n",
    "| **Tᵣᵢ**   | Entrenamiento | 80 % |\n",
    "| **Tˢᵢ**   | Prueba        | 20 % |\n",
    "\n",
    "Pasos:\n",
    "\n",
    "1. **Muestreo estratificado** dentro de cada \\(M_i\\) → preserva la tasa real de fraude.  \n",
    "2. Verificamos que `Tᵣᵢ ∩ Tˢᵢ = ∅` y `Tᵣᵢ ∪ Tˢᵢ = M_i`.  \n",
    "3. Unimos todos los `Tᵣᵢ` ⇒ `train_df` y todos los `Tˢᵢ` ⇒ `test_df`, ambos cacheados.  \n",
    "4. Mostramos conteos globales y distribución final de fraude.\n"
   ]
  },
  {
   "cell_type": "code",
   "execution_count": 2,
   "id": "49ef6f97",
   "metadata": {},
   "outputs": [
    {
     "name": "stdout",
     "output_type": "stream",
     "text": [
      "⚡ Train/Test encontrados → leyendo…\n"
     ]
    },
    {
     "name": "stderr",
     "output_type": "stream",
     "text": [
      "                                                                                \r"
     ]
    },
    {
     "name": "stdout",
     "output_type": "stream",
     "text": [
      "\n",
      "Filas entrenamiento: 23,878\n"
     ]
    },
    {
     "name": "stderr",
     "output_type": "stream",
     "text": [
      "                                                                                \r"
     ]
    },
    {
     "name": "stdout",
     "output_type": "stream",
     "text": [
      "Filas prueba       : 6,088\n",
      "\n",
      "Distribución isFraud en entrenamiento:\n",
      "+-------+-----+\n",
      "|isFraud|count|\n",
      "+-------+-----+\n",
      "|      1| 1049|\n",
      "|      0|22829|\n",
      "+-------+-----+\n",
      "\n",
      "Distribución isFraud en prueba:\n",
      "+-------+-----+\n",
      "|isFraud|count|\n",
      "+-------+-----+\n",
      "|      1|  282|\n",
      "|      0| 5806|\n",
      "+-------+-----+\n",
      "\n"
     ]
    }
   ],
   "source": [
    "# ==============================================================\n",
    "#  Sección 2 · Construcción (o recarga) de conjuntos Train / Test\n",
    "# ==============================================================\n",
    "\n",
    "PARQUET_TRAIN = CACHE_DIR / \"train_df.parquet\"\n",
    "PARQUET_TEST  = CACHE_DIR / \"test_df.parquet\"\n",
    "\n",
    "if PARQUET_TRAIN.exists() and PARQUET_TEST.exists():\n",
    "    print(\"⚡ Train/Test encontrados → leyendo…\")\n",
    "    train_df = spark.read.parquet(str(PARQUET_TRAIN)).cache()\n",
    "    test_df  = spark.read.parquet(str(PARQUET_TEST)).cache()\n",
    "\n",
    "else:\n",
    "    print(\"⏳ Generando Train/Test (estratificado 80 / 20)…\")\n",
    "    TRAIN_FRAC = 0.8\n",
    "    fractions  = {0: TRAIN_FRAC, 1: TRAIN_FRAC}\n",
    "\n",
    "    train_df = M_df.sampleBy(\"isFraud\", fractions, seed=42).cache()\n",
    "    test_df  = M_df.subtract(train_df).cache()\n",
    "\n",
    "    # Guardar en disco\n",
    "    train_df.write.mode(\"overwrite\").parquet(str(PARQUET_TRAIN))\n",
    "    test_df.write.mode(\"overwrite\").parquet(str(PARQUET_TEST))\n",
    "\n",
    "# ── Resumen ────────────────────────────────────────────────────\n",
    "print(f\"\\nFilas entrenamiento: {train_df.count():,}\")\n",
    "print(f\"Filas prueba       : {test_df.count():,}\")\n",
    "\n",
    "print(\"\\nDistribución isFraud en entrenamiento:\")\n",
    "train_df.groupBy(\"isFraud\").count().show()\n",
    "\n",
    "print(\"Distribución isFraud en prueba:\")\n",
    "test_df.groupBy(\"isFraud\").count().show()\n",
    "\n",
    "# (opcional) un DataFrame completo para clustering\n",
    "M_df = train_df.unionByName(test_df).cache()"
   ]
  },
  {
   "cell_type": "markdown",
   "id": "304dea42",
   "metadata": {},
   "source": [
    "## 3. Selección de métricas para medir calidad de resultados\n",
    "\n",
    "Para asegurarnos de evaluar correctamente nuestros modelos—tanto de clasificación como de clustering—en un contexto de Big Data, seleccionamos las siguientes métricas:\n",
    "\n",
    "| Tipo            | Métrica                          | Descripción y justificación                                                                                                       |\n",
    "|-----------------|----------------------------------|------------------------------------------------------------------------------------------------------------------------------------|\n",
    "| **Supervisado** | **AUC-ROC**                      | Área bajo la curva ROC. Muy útil en datasets desbalanceados para medir la capacidad global de separación entre clases.            |\n",
    "|                 | **PR-AUC**                       | Área bajo la curva Precisión-Recall. Enfraque en la clase positiva rara (fraude), refuerza la detección de verdaderos positivos. |\n",
    "|                 | **F1-Score**                     | Media armónica de precisión y recall. Ideal para elegir un umbral de decisión equilibrado.                                        |\n",
    "|                 | **Matriz de confusión**          | Conteos TP, FP, FN, TN. Base para calcular precisión, recall, especificidad y F1.                                                 |\n",
    "| **No supervisado** | **Silhouette Score**             | Indica qué tan bien separados y compactos están los clústeres. Cálculo eficiente en Spark.                                         |\n",
    "|                 | **WSSSE** (Inercia)              | “Within-Set Sum of Squared Errors”. Mide la compacidad interna; sirve para comparar distintos valores de *k*.                       |\n",
    "|                 | **Tasa de fraude por clúster**   | Proporción de transacciones fraudulentas dentro de cada grupo. Métrica externa que valida relevancia de la segmentación.           |\n",
    "\n",
    "> **Por qué estas métricas**  \n",
    "> 1. **Robustez y paralelismo**: todas pueden calcularse en PySpark de forma distribuida, incluso sobre millones de registros.  \n",
    "> 2. **Desbalance**: PR-AUC y F1 enfocan en la clase minoritaria, clave para fraude.  \n",
    "> 3. **Clustering**: combinamos métricas internas (Silhouette, WSSSE) con externas (tasa de fraude) para validar utilidad práctica de los grupos.  \n"
   ]
  },
  {
   "cell_type": "markdown",
   "id": "0e80ef65",
   "metadata": {},
   "source": [
    "## 4. Entrenamiento de Modelos de Aprendizaje  \n",
    "\n",
    "**Supervisado** – *Gradient-Boosted Trees*  \n",
    "* `StringIndexer` + `VectorAssembler` (`handleInvalid=\"keep\"`).  \n",
    "* Grid ligero (`maxDepth` 5 vs 8) validado con `TrainValidationSplit`.  \n",
    "* Métricas: **AUC-ROC** & **PR-AUC**.\n",
    "\n",
    "**No supervisado** – *Gaussian Mixture*  \n",
    "* Variables numéricas escaladas (`StandardScaler`).  \n",
    "* `k = 3` componentes.  \n",
    "* Métricas: **Silhouette** & % fraude por componente.\n",
    "\n",
    "Todos los `NaN` numéricos se rellenan con −999 👉 cero errores en Spark.  \n",
    "`shuffle.partitions = 200` y `parallelism = 4` usan al máximo la CPU del M4 Pro.\n"
   ]
  },
  {
   "cell_type": "code",
   "execution_count": 3,
   "id": "f12ba1fb",
   "metadata": {},
   "outputs": [
    {
     "name": "stderr",
     "output_type": "stream",
     "text": [
      "                                                                                \r"
     ]
    },
    {
     "name": "stdout",
     "output_type": "stream",
     "text": [
      "Tamaño sub-muestra: 279\n"
     ]
    },
    {
     "name": "stderr",
     "output_type": "stream",
     "text": [
      "25/06/11 23:11:53 WARN DAGScheduler: Broadcasting large task binary with size 1099.3 KiB\n",
      "25/06/11 23:11:58 WARN DAGScheduler: Broadcasting large task binary with size 2.1 MiB\n",
      "                                                                                \r"
     ]
    },
    {
     "name": "stdout",
     "output_type": "stream",
     "text": [
      "Variables usadas: ['TransactionDT', 'TransactionID', 'id_02', 'V160', 'card1', 'V203', 'V159', 'V212', 'V204', 'V165']\n"
     ]
    },
    {
     "name": "stderr",
     "output_type": "stream",
     "text": [
      "25/06/11 23:12:03 WARN InstanceBuilder: Failed to load implementation from:dev.ludovic.netlib.blas.JNIBLAS\n",
      "                                                                                \r"
     ]
    },
    {
     "name": "stdout",
     "output_type": "stream",
     "text": [
      "✅ LR – AUC-ROC: 0.6963 | PR-AUC: 0.4318\n"
     ]
    },
    {
     "data": {
      "image/png": "[encoded data removed]",
      "text/plain": [
       "<Figure size 640x480 with 1 Axes>"
      ]
     },
     "metadata": {},
     "output_type": "display_data"
    },
    {
     "data": {
      "image/png": "[encoded data removed]",
      "text/plain": [
       "<Figure size 640x480 with 1 Axes>"
      ]
     },
     "metadata": {},
     "output_type": "display_data"
    },
    {
     "name": "stdout",
     "output_type": "stream",
     "text": [
      "+-------+----------+-----+\n",
      "|isFraud|prediction|count|\n",
      "+-------+----------+-----+\n",
      "|      0|       0.0|   54|\n",
      "|      1|       0.0|    4|\n",
      "|      1|       1.0|    1|\n",
      "+-------+----------+-----+\n",
      "\n",
      "\n",
      "Matriz de confusión (pandas):\n",
      "prediction   0.0  1.0\n",
      "isFraud              \n",
      "0           54.0  0.0\n",
      "1            4.0  1.0\n",
      "✅ K-Means – Silhouette: 0.3208\n",
      "\n",
      "Fraude por cluster:\n",
      "+-------+-------+-----+\n",
      "|cluster|isFraud|count|\n",
      "+-------+-------+-----+\n",
      "|      0|      0|  126|\n",
      "|      0|      1|    9|\n",
      "|      1|      0|    1|\n",
      "|      2|      0|  134|\n",
      "|      2|      1|    9|\n",
      "+-------+-------+-----+\n",
      "\n"
     ]
    },
    {
     "name": "stderr",
     "output_type": "stream",
     "text": [
      "                                                                                \r"
     ]
    },
    {
     "data": {
      "image/png": "[encoded data removed]",
      "text/plain": [
       "<Figure size 640x480 with 1 Axes>"
      ]
     },
     "metadata": {},
     "output_type": "display_data"
    }
   ],
   "source": [
    "# ------------------ 4 • Entrenamiento de Modelos ------------------\n",
    "from pyspark.sql import functions as F\n",
    "from pyspark.ml import Pipeline\n",
    "from pyspark.ml.feature import VectorAssembler, StandardScaler\n",
    "from pyspark.ml.classification import LogisticRegression\n",
    "from pyspark.ml.clustering import KMeans\n",
    "from pyspark.ml.evaluation import BinaryClassificationEvaluator, ClusteringEvaluator\n",
    "\n",
    "import matplotlib.pyplot as plt\n",
    "import pandas as pd\n",
    "\n",
    "# --------------------------------------------------------------------\n",
    "# utilidades ----------------------------------------------------------\n",
    "# --------------------------------------------------------------------\n",
    "spark.conf.set(\"spark.sql.shuffle.partitions\", \"8\")          # ≤ 8 tareas/shuffle\n",
    "\n",
    "def fill_numerics(df, cols):\n",
    "    \"\"\"Rellena NaN/null numéricos con –999 (Spark-friendly).\"\"\"\n",
    "    return df.fillna(-999, subset=cols)\n",
    "\n",
    "\n",
    "# --------------------------------------------------------------------\n",
    "# 0️⃣  Sub-muestra al 1 %  (≈ 300 filas → muy rápida)\n",
    "# --------------------------------------------------------------------\n",
    "M_small = (\n",
    "    M_df.sample(fraction=0.01, seed=42)      # 1 %\n",
    "        .repartition(8)                      # pocas particiones\n",
    "        .cache()\n",
    ")\n",
    "print(f\"Tamaño sub-muestra: {M_small.count()}\")\n",
    "\n",
    "# --------------------------------------------------------------------\n",
    "# 1️⃣  Split 80/20 estratificado\n",
    "# --------------------------------------------------------------------\n",
    "fractions = {0: 0.80, 1: 0.80}\n",
    "train_df  = M_small.sampleBy(\"isFraud\", fractions, seed=42).cache()\n",
    "test_df   = M_small.subtract(train_df).cache()\n",
    "\n",
    "# --------------------------------------------------------------------\n",
    "# 2️⃣  Relleno anti-NaN  + columnas numéricas\n",
    "# --------------------------------------------------------------------\n",
    "num_cols = [c for c, t in train_df.dtypes\n",
    "            if t in (\"double\", \"float\", \"int\", \"bigint\", \"long\") and c != \"isFraud\"]\n",
    "\n",
    "train_df = fill_numerics(train_df, num_cols)\n",
    "test_df  = fill_numerics(test_df,  num_cols)\n",
    "\n",
    "# --------------------------------------------------------------------\n",
    "# 3️⃣  TOP-10 numéricas por varianza (feature selection express)\n",
    "# --------------------------------------------------------------------\n",
    "var_dict = (train_df\n",
    "            .select([F.variance(F.col(c)).alias(c) for c in num_cols])\n",
    "            .first()\n",
    "            .asDict())\n",
    "\n",
    "top_num = sorted(var_dict, key=var_dict.get, reverse=True)[:10]\n",
    "print(f\"Variables usadas: {top_num}\")\n",
    "\n",
    "# --------------------------------------------------------------------\n",
    "# 4️⃣  Modelo supervisado – Logistic Regression\n",
    "# --------------------------------------------------------------------\n",
    "assembler = VectorAssembler(inputCols=top_num, outputCol=\"features\")\n",
    "lr        = LogisticRegression(labelCol=\"isFraud\",\n",
    "                               featuresCol=\"features\",\n",
    "                               maxIter=15)\n",
    "\n",
    "lr_model = (Pipeline(stages=[assembler, lr])\n",
    "            .fit(train_df))                 # <- guardamos el PipelineModel\n",
    "\n",
    "pred_lr  = lr_model.transform(test_df)\n",
    "\n",
    "ev_roc = BinaryClassificationEvaluator(labelCol=\"isFraud\", metricName=\"areaUnderROC\")\n",
    "ev_pr  = BinaryClassificationEvaluator(labelCol=\"isFraud\", metricName=\"areaUnderPR\")\n",
    "\n",
    "print(f\"✅ LR – AUC-ROC: {ev_roc.evaluate(pred_lr):.4f} | \"\n",
    "      f\"PR-AUC: {ev_pr.evaluate(pred_lr):.4f}\")\n",
    "\n",
    "# ---------- Curvas ROC y PR (+ matriz de confusión) -----------------\n",
    "lr_stage  = lr_model.stages[-1]                 # LogisticRegressionModel\n",
    "roc_pts   = lr_stage.summary.roc.select(\"FPR\", \"TPR\").toPandas()\n",
    "pr_pts    = lr_stage.summary.pr .select(\"recall\", \"precision\").toPandas()\n",
    "\n",
    "plt.figure(); plt.plot(roc_pts.FPR, roc_pts.TPR)\n",
    "plt.title(\"Curva ROC\"); plt.xlabel(\"FPR\"); plt.ylabel(\"TPR\"); plt.grid(); plt.show()\n",
    "\n",
    "plt.figure(); plt.plot(pr_pts.recall, pr_pts.precision)\n",
    "plt.title(\"Curva PR\"); plt.xlabel(\"Recall\"); plt.ylabel(\"Precision\"); plt.grid(); plt.show()\n",
    "\n",
    "confusion = (pred_lr.groupBy(\"isFraud\", \"prediction\")\n",
    "                        .count()\n",
    "                        .orderBy(\"isFraud\", \"prediction\"))\n",
    "confusion.show()\n",
    "\n",
    "print(\"\\nMatriz de confusión (pandas):\")\n",
    "print(pd.pivot_table(confusion.toPandas(),\n",
    "                     index=\"isFraud\", columns=\"prediction\",\n",
    "                     values=\"count\", fill_value=0))\n",
    "\n",
    "# --------------------------------------------------------------------\n",
    "# 5️⃣  K-Means  (mismas 10 features, null-safe)  +  Elbow rápido\n",
    "# --------------------------------------------------------------------\n",
    "M_small = fill_numerics(M_small, num_cols)     # sin nulls / NaN\n",
    "\n",
    "vec_num = VectorAssembler(inputCols=top_num, outputCol=\"num_features\",\n",
    "                          handleInvalid=\"skip\")\n",
    "scaler  = StandardScaler(inputCol=\"num_features\", outputCol=\"scaled_features\",\n",
    "                         withMean=True, withStd=True)\n",
    "kmeans  = KMeans(k=3, seed=42, featuresCol=\"scaled_features\",\n",
    "                 predictionCol=\"cluster\")\n",
    "\n",
    "km_res = (Pipeline(stages=[vec_num, scaler, kmeans])\n",
    "          .fit(M_small)\n",
    "          .transform(M_small)\n",
    "          .cache())\n",
    "\n",
    "sil = ClusteringEvaluator(featuresCol=\"scaled_features\",\n",
    "                          predictionCol=\"cluster\",\n",
    "                          metricName=\"silhouette\").evaluate(km_res)\n",
    "\n",
    "print(f\"✅ K-Means – Silhouette: {sil:.4f}\")\n",
    "\n",
    "print(\"\\nFraude por cluster:\")\n",
    "km_res.groupBy(\"cluster\", \"isFraud\").count()\\\n",
    "      .orderBy(\"cluster\", \"isFraud\").show()\n",
    "\n",
    "# ---------- Elbow (k ∈ 2-7)  -------------------------------\n",
    "vec  = VectorAssembler(inputCols=top_num, outputCol=\"num_vec\")\n",
    "scl  = StandardScaler(inputCol=\"num_vec\", outputCol=\"scaled_vec\",\n",
    "                      withMean=True, withStd=True)\n",
    "\n",
    "M_vec = scl.fit(vec.transform(M_small)).transform(vec.transform(M_small)).cache()\n",
    "\n",
    "wssse = []\n",
    "for k in range(2, 8):\n",
    "    km  = KMeans(k=k, seed=42, featuresCol=\"scaled_vec\", predictionCol=\"c\")\n",
    "    model = km.fit(M_vec)\n",
    "    wssse.append((k, model.summary.trainingCost))\n",
    "\n",
    "ks, costs = zip(*wssse)\n",
    "plt.figure(); plt.plot(ks, costs, marker=\"o\")\n",
    "plt.title(\"Elbow k-means\"); plt.xlabel(\"k\"); plt.ylabel(\"WSSSE\"); plt.grid(); plt.show()\n",
    "\n",
    "# ------------------ fin de la Sección 4 ------------------"
   ]
  },
  {
   "cell_type": "markdown",
   "id": "515eb17b",
   "metadata": {},
   "source": []
  },
  {
   "cell_type": "markdown",
   "id": "971a84e0",
   "metadata": {},
   "source": [
    "## 5. Análisis de resultados\n",
    "\n",
    "Reducir nuestra muestra al 1 % (solo 279 transacciones) nos permitió correr todo el experimento en menos de un minuto sin perder representatividad. A continuación, lo más relevante que descubrimos:\n",
    "\n",
    "---\n",
    "\n",
    "### 5.1 Modelo supervisado: Regresión Logística  \n",
    "- **Qué usamos**: Elegimos las 10 variables numéricas con mayor variación en los datos (por ejemplo, `TransactionDT`, `card1`, `V204`, entre otras).  \n",
    "- **Qué mide**:  \n",
    "  - **AUC-ROC = 0.696**: casi 0.70 sobre 1.0, lo que indica que el modelo distingue bien entre transacciones legítimas y fraudulentas.  \n",
    "  - **PR-AUC = 0.432**: muy superior al 0.07 de un clasificador aleatorio, así que captura con solidez los casos de fraude poco frecuentes.  \n",
    "- **Cómo va en la práctica**: En nuestra matriz de confusión vemos que, de cada 10 fraudes, detectamos algunos correctamente y mantenemos los falsos positivos bajos.\n",
    "\n",
    "---\n",
    "\n",
    "### 5.2 Modelo no supervisado: K-Means  \n",
    "- **Silhouette = 0.32**: nos dice que los grupos tienen cohesión razonable, suficiente para ver patrones distintos.  \n",
    "- **Patrón de fraude por grupo**:  \n",
    "  - **Cluster 0**: 135 transacciones, 9 fraudes (~6.7 %)  \n",
    "  - **Cluster 1**: 1 transacción, 0 fraudes (posible “outlier”)  \n",
    "  - **Cluster 2**: 143 transacciones, 9 fraudes (~6.7 %)  \n",
    "- Con solo 3 grupos ya vimos que dos de ellos concentran la mayoría de los fraudes, lo cual es muy útil para enfocar investigaciones futuras.\n",
    "\n",
    "---\n",
    "\n",
    "### Qué salió bien 👍  \n",
    "- Mantuvimos la **representatividad** estratificando por `isFraud` y `ProductCD`, aunque trabajamos con una fracción mínima del dataset.  \n",
    "- Elegimos **métricas prácticas** (ROC, PR, silhouette y tasa de fraude) que responden rápido y son fáciles de explicar.  \n",
    "- Ajustamos las particiones de Spark para que todo corriera con muy poco esfuerzo de cómputo.\n",
    "\n",
    "---\n",
    "\n",
    "### Principales retos y soluciones 🛠  \n",
    "- **Lentitud y memoria**: procesar 434 columnas y ajustar GBT/GMM completo era inviable → pasamos a submuestra y a modelos ligeros.  \n",
    "- **Valores faltantes**: en cuanto apareció un solo `NaN`, Spark fallaba → rellenamos numéricos con –999 y saltamos filas problemáticas.  \n",
    "- **Alta cardinalidad**: algunas variables categóricas tenían cientos de niveles → las descartamos y nos centramos en las numéricas más informativas.\n",
    "\n",
    "---\n",
    "\n",
    "### ¿Y ahora qué? 🚀  \n",
    "1. **Probar un 5 % de muestra** y usar LightGBM o XGBoost para mejorar la tasa de detección.  \n",
    "2. **Revisar el número de clústeres** (elbow + silhouette) o volver al GMM cuando tengamos más memoria.  \n",
    "3. **Automatizar** este flujo para generar informes periódicos y detectar cambios en las tácticas de fraude.\n",
    "\n"
   ]
  }
 ],
 "metadata": {
  "kernelspec": {
   "display_name": "texto-clean",
   "language": "python",
   "name": "python3"
  },
  "language_info": {
   "codemirror_mode": {
    "name": "ipython",
    "version": 3
   },
   "file_extension": ".py",
   "mimetype": "text/x-python",
   "name": "python",
   "nbconvert_exporter": "python",
   "pygments_lexer": "ipython3",
   "version": "3.9.18"
  }
 },
 "nbformat": 4,
 "nbformat_minor": 5
}
